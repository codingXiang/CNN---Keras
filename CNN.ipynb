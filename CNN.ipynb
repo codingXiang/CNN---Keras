{
 "cells": [
  {
   "cell_type": "code",
   "execution_count": 53,
   "metadata": {
    "collapsed": true
   },
   "outputs": [],
   "source": [
    "import requests as rs\n",
    "from bs4 import BeautifulSoup as bs\n",
    "import csv\n",
    "# f = open('http://140.120.54.102/a.csv')\n",
    "\n",
    "\n",
    "#result_list=[]\n",
    "\n",
    "def craw(url):\n",
    "    print(url)\n",
    "    url = url.rstrip('\\n')\n",
    "    res = rs.get(url)\n",
    "    res.encoding = 'utf-8'\n",
    "    soup = bs(res.text, \"lxml\")\n",
    "    tr = soup.select('tr')\n",
    "    count=0;\n",
    "    for i in tr:\n",
    "        try:\n",
    "            title = i.select('td[class=\"property\"]')[0].select('a')[0].text\n",
    "            if (title.find('wikiPageRedirects') is not -1):\n",
    "                for j in i.select('li'):\n",
    "                    count=count+1;\n",
    "                    u = j.select('a')[0]['href']\n",
    "                    a = j.select('a')[0].text.split(':')[1]\n",
    "                    print(count , a , u)\n",
    "                #    result_list.append(count)\n",
    "                #    result_list.append(a)\n",
    "                #    result_list.append(u)\n",
    "        except:\n",
    "            pass\n",
    "\n",
    "\n",
    "\n",
    "# file_obj.write(codecs.BOM_UTF8)\n"
   ]
  },
  {
   "cell_type": "code",
   "execution_count": 54,
   "metadata": {},
   "outputs": [
    {
     "name": "stdout",
     "output_type": "stream",
     "text": [
      "http://dbpedia.org/resource/E-carrier\n",
      "\n",
      "1 E1-carrier http://dbpedia.org/resource/E1-carrier\n",
      "2 E1_carrier http://dbpedia.org/resource/E1_carrier\n",
      "3 E_carrier http://dbpedia.org/resource/E_carrier\n",
      "4 European_format_for_digital_transmission http://dbpedia.org/resource/European_format_for_digital_transmission\n",
      "5 E-carrier_level_1 http://dbpedia.org/resource/E-carrier_level_1\n",
      "http://dbpedia.org/resource/E._Allen_Emerson\n",
      "\n",
      "1 E._A._Emerson http://dbpedia.org/resource/E._A._Emerson\n",
      "2 Ernest_Allen_Emerson http://dbpedia.org/resource/Ernest_Allen_Emerson\n",
      "3 Allen_Emerson http://dbpedia.org/resource/Allen_Emerson\n",
      "4 E_Allen_Emerson http://dbpedia.org/resource/E_Allen_Emerson\n",
      "http://dbpedia.org/resource/E._C._Segar\n",
      "\n",
      "1 E.C._Segar http://dbpedia.org/resource/E.C._Segar\n",
      "2 Elzie_Segar http://dbpedia.org/resource/Elzie_Segar\n",
      "3 Elzie_C._Segar http://dbpedia.org/resource/Elzie_C._Segar\n",
      "4 EC_Segar http://dbpedia.org/resource/EC_Segar\n",
      "5 E_C_Segar http://dbpedia.org/resource/E_C_Segar\n",
      "6 Elzie_Crisler_Segar http://dbpedia.org/resource/Elzie_Crisler_Segar\n",
      "7 Elsie_Segar http://dbpedia.org/resource/Elsie_Segar\n"
     ]
    }
   ],
   "source": [
    "f = open('a.csv')\n",
    "url_list=[]\n",
    "\n",
    "for i in f:\n",
    "    try:\n",
    "        url_list.append(i.split(',')[2])\n",
    "    except:\n",
    "        pass\n",
    "    \n",
    "for i in url_list:\n",
    "    craw(i)"
   ]
  }
 ],
 "metadata": {
  "kernelspec": {
   "display_name": "Python 3",
   "language": "python",
   "name": "python3"
  },
  "language_info": {
   "codemirror_mode": {
    "name": "ipython",
    "version": 3
   },
   "file_extension": ".py",
   "mimetype": "text/x-python",
   "name": "python",
   "nbconvert_exporter": "python",
   "pygments_lexer": "ipython3",
   "version": "3.5.2"
  }
 },
 "nbformat": 4,
 "nbformat_minor": 2
}
